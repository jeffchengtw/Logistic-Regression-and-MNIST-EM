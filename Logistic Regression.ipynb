{
 "cells": [
  {
   "cell_type": "code",
   "execution_count": 1,
   "metadata": {},
   "outputs": [],
   "source": [
    "import numpy as np\n",
    "import matplotlib.pyplot as plt\n",
    "import math"
   ]
  },
  {
   "cell_type": "markdown",
   "metadata": {},
   "source": [
    "# 1. Logistic regression"
   ]
  },
  {
   "cell_type": "markdown",
   "metadata": {},
   "source": [
    "## Input:"
   ]
  },
  {
   "cell_type": "markdown",
   "metadata": {},
   "source": [
    "1. $N$ (Number of data points)\n",
    "2. $mx_{1}, vx_{1}, my_{1}, vy_{1}, mx_{2}, vx_{2}, my_{2}, vy_{2}$ ($m$:mean, $v$ variance)"
   ]
  },
  {
   "cell_type": "code",
   "execution_count": 2,
   "metadata": {},
   "outputs": [],
   "source": [
    "def switch_case(mode):\n",
    "    if mode == 'case 1':      \n",
    "        # Case 1\n",
    "        N = 50\n",
    "        mx1=my1 = 1\n",
    "        mx2=my2 = 10\n",
    "        vx1=vy1=vx2=vy2 = 2\n",
    "    if mode == 'case 2':\n",
    "        # case 2\n",
    "        N = 50\n",
    "        mx1=my1=1\n",
    "        mx2=my2=3\n",
    "        vx1=vy1=2\n",
    "        vx2=vy2=4\n",
    "    return mx1, my1, mx2, my2, vx1, vy1, vx2, vy2, N"
   ]
  },
  {
   "cell_type": "code",
   "execution_count": 3,
   "metadata": {},
   "outputs": [],
   "source": [
    "mx1, my1, mx2, my2, vx1, vy1, vx2, vy2, N = switch_case('case 2')"
   ]
  },
  {
   "cell_type": "markdown",
   "metadata": {},
   "source": [
    "## Function:"
   ]
  },
  {
   "cell_type": "markdown",
   "metadata": {},
   "source": [
    "1. Generate $n$ data point $D1 = (x_{1}, y_{1}), (x_{2}, y_{2}), ..., (x_{n}, y_{n})$, where $x$ and $y$ are independently samples from $N(mx_{1}, vx_{1})$ and $N(my_{1}, vy_{1})$ respectively.\n",
    "2. Generate $n$ data point $D2 = (x_{1}, y_{1}), (x_{2}, y_{2}), ..., (x_{n}, y_{n})$, where $x$ and $y$ are independently samples from $N(mx_{2}, vx_{2})$ and $N(my_{2}, vy_{2})$ respectively.\n",
    "3. Use Logistic regression to  separate $D1$ and $D2$. "
   ]
  },
  {
   "cell_type": "code",
   "execution_count": 4,
   "metadata": {},
   "outputs": [],
   "source": [
    "def univariate_gaussian_data_generator(m, s):    \n",
    "    # Box-Muller method\n",
    "    U = np.random.uniform(0,1)\n",
    "    V = np.random.uniform(0,1)\n",
    "    Z = np.sqrt(-2*np.log(U))*math.cos(2*math.pi*V)\n",
    "    \n",
    "    data = m + s**0.5*Z # output\n",
    "    \n",
    "    return data"
   ]
  },
  {
   "cell_type": "code",
   "execution_count": 5,
   "metadata": {},
   "outputs": [],
   "source": [
    "D1 = []\n",
    "D2 = []\n",
    "def to_X(D1, D2):\n",
    "    X = np.ones((2 * len(D1), 3))\n",
    "    X[:, 1:] = np.vstack((D1,D2))\n",
    "    return X\n",
    "\n",
    "def to_y(N):\n",
    "    y = np.zeros((2 * N, 1))\n",
    "    y[N:] = np.ones((N, 1))\n",
    "    return y\n",
    "\n",
    "for i in range(N):\n",
    "    D1.append(((univariate_gaussian_data_generator(mx1, vx1)), univariate_gaussian_data_generator(my1, vy1)))\n",
    "    D2.append(((univariate_gaussian_data_generator(mx2, vx2)), univariate_gaussian_data_generator(my2, vy2)))\n",
    "\n",
    "X = to_X(D1,D2)\n",
    "y = to_y(N)"
   ]
  },
  {
   "cell_type": "markdown",
   "metadata": {},
   "source": [
    "## Gradient descent"
   ]
  },
  {
   "cell_type": "markdown",
   "metadata": {},
   "source": [
    "$W_{j+1} = W_{j} - \\lambda X^{T}(f(W^{T}x)-Y)$"
   ]
  },
  {
   "cell_type": "code",
   "execution_count": 6,
   "metadata": {},
   "outputs": [],
   "source": [
    "def gradient_descent(X, y, lr=0.001):\n",
    "    w = np.random.rand(3,1)\n",
    "    count=0\n",
    "    while(True):\n",
    "        count += 1\n",
    "        w_old = w\n",
    "        D = X.T.dot( y -(1/(1+np.exp(-X.dot(w)))) )\n",
    "        w = w + D\n",
    "        if(np.linalg.norm(w-w_old)<1e-2 or (count>1e4 and np.linalg.norm(w-w_old)<80) or count>1e5):\n",
    "                break\n",
    "    \n",
    "    print('w:')\n",
    "    print(w[0])\n",
    "    print(w[1])\n",
    "    print(w[2])\n",
    "    \n",
    "    return w\n",
    "\n",
    "def predict(X, w):\n",
    "    N = len(X)\n",
    "    predict = np.empty((N,1))\n",
    "    for i in range(N):\n",
    "        predict[i]=0 if X[i]@w<0 else 1\n",
    "    return predict\n",
    "\n",
    "def show_confusion_matrix(y, pred):\n",
    "    TP=TN=FP=FN=0\n",
    "    \n",
    "    for i in range(len(pred)):\n",
    "        if y[i] == 0:\n",
    "            if y[i] == pred[i]:\n",
    "                TN+=1\n",
    "            else:\n",
    "                FP+=1\n",
    "        if y[i] == 1:\n",
    "            if y[i] == pred[i]:\n",
    "                TP+=1\n",
    "            else:\n",
    "                FN+=1\n",
    "    matrix=np.empty((2,2))\n",
    "    matrix[0,0],matrix[0,1],matrix[1,0],matrix[1,1]=TP,FN,FP,TN\n",
    "    print('Confusion Matrix:')\n",
    "    print('               Predict cluster 1  Predict cluster 2')\n",
    "    print('Is cluster 1        {:.0f}               {:.0f}       '.format(matrix[0,0],matrix[0,1]))\n",
    "    print('Is cluster 2        {:.0f}               {:.0f}       '.format(matrix[1,0],matrix[1,1]))\n",
    "    print()\n",
    "    print('Sensitivity (Successfully predict cluster 1): {}'.format(matrix[0,0]/(matrix[0,0]+matrix[1,0])))\n",
    "    print('Specificity (Successfully predict cluster 2): {}'.format(matrix[0,0]/(matrix[0,0]+matrix[0,1])))"
   ]
  },
  {
   "cell_type": "code",
   "execution_count": 7,
   "metadata": {},
   "outputs": [
    {
     "name": "stdout",
     "output_type": "stream",
     "text": [
      "w:\n",
      "[-132.44159455]\n",
      "[39.85027402]\n",
      "[50.93329921]\n",
      "Confusion Matrix:\n",
      "               Predict cluster 1  Predict cluster 2\n",
      "Is cluster 1        43               7       \n",
      "Is cluster 2        11               39       \n",
      "\n",
      "Sensitivity (Successfully predict cluster 1): 0.7962962962962963\n",
      "Specificity (Successfully predict cluster 2): 0.86\n"
     ]
    }
   ],
   "source": [
    "w_g = gradient_descent(X, y)\n",
    "pred_g = predict(X, w_g)\n",
    "show_confusion_matrix(y, pred_g)"
   ]
  },
  {
   "cell_type": "markdown",
   "metadata": {},
   "source": [
    "## Newton's in logistic regression"
   ]
  },
  {
   "cell_type": "markdown",
   "metadata": {},
   "source": [
    "$W_{n+1} = W_{n} - (X^{T}RX)^{-1}X^{T}(f(W^{T}_{n}x)-Y) $ <br>\n",
    "where R is diagonal matrix mxm of$\\frac{e^{-W^{T}_{n}x_{i}}}{(1+e^{-W^{T}x_{i}})^{2}}$"
   ]
  },
  {
   "cell_type": "code",
   "execution_count": 8,
   "metadata": {},
   "outputs": [],
   "source": [
    "def newton_method(X, y, lr=0.001):\n",
    "    eps=1e-2\n",
    "    W = np.random.rand(3,1)\n",
    "    m = len(X)\n",
    "    R = np.zeros((m,m))\n",
    "    for i in range(m):\n",
    "        #R[i,i] = np.exp(-W.T@X[i])/(1+np.exp(-W.T@X[i]))**2\n",
    "        R[i,i]=np.exp(-X[i]@W)/np.power(1+np.exp(-X[i]@W),2)\n",
    "    H = X.T@R@X\n",
    "    \n",
    "    try:\n",
    "        H_inv = np.linalg.inv(H)\n",
    "    except np.linalg.LinAlgError as error:\n",
    "        print(str(error))\n",
    "        print('Hessian matrix non invertible, switch to Gradient descent')\n",
    "    \n",
    "    gradient = 100\n",
    "    while np.sqrt(np.sum(gradient**2))>eps: \n",
    "        gradient = H_inv@X.T@(y-1/(1+np.exp(-X@W)))\n",
    "        W = W + lr*gradient\n",
    "    \n",
    "    print('w:')\n",
    "    print(W[0])\n",
    "    print(W[1])\n",
    "    print(W[2])\n",
    "    return W\n"
   ]
  },
  {
   "cell_type": "code",
   "execution_count": 9,
   "metadata": {},
   "outputs": [
    {
     "name": "stdout",
     "output_type": "stream",
     "text": [
      "w:\n",
      "[-3.1382794]\n",
      "[0.69909539]\n",
      "[1.02461887]\n",
      "Confusion Matrix:\n",
      "               Predict cluster 1  Predict cluster 2\n",
      "Is cluster 1        39               11       \n",
      "Is cluster 2        7               43       \n",
      "\n",
      "Sensitivity (Successfully predict cluster 1): 0.8478260869565217\n",
      "Specificity (Successfully predict cluster 2): 0.78\n"
     ]
    }
   ],
   "source": [
    "w = newton_method(X, y)\n",
    "pred_newtons = predict(X, w)\n",
    "show_confusion_matrix(y, pred_newtons)"
   ]
  },
  {
   "cell_type": "code",
   "execution_count": 10,
   "metadata": {},
   "outputs": [],
   "source": [
    "def plot_ground_truth(D1, D2):\n",
    "    D1 = np.array(D1)\n",
    "    D2 = np.array(D2)\n",
    "    plt.figure()\n",
    "    plt.plot(D1[:,0], D1[:,1],'ro')\n",
    "    plt.plot(D2[:,0], D2[:,1],'bo')\n",
    "    plt.title('Ground Truth')\n",
    "    plt.show()\n",
    "\n",
    "def plt_newtons_result(D1, D2, pred):\n",
    "    C0 = []\n",
    "    C1 = []\n",
    "    D1 = np.array(D1)\n",
    "    D2 = np.array(D2)\n",
    "    src_data = np.vstack((D1,D2))\n",
    "    for i in range(len(pred)):\n",
    "        if pred[i] == 0:\n",
    "            C0.append(src_data[i]) \n",
    "        else:\n",
    "            C1.append(src_data[i])\n",
    "    \n",
    "    C0 = np.array(C0)\n",
    "    C1 = np.array(C1)\n",
    "    plt.figure()\n",
    "    plt.plot(C0[:,0], C0[:,1],'ro')\n",
    "    plt.plot(C1[:,0], C1[:,1],'bo')\n",
    "    plt.title('Newtons method')\n",
    "    plt.show()\n",
    "    \n",
    "def plt_gradient_descent_result(D1, D2, pred):\n",
    "    C0 = []\n",
    "    C1 = []\n",
    "    D1 = np.array(D1)\n",
    "    D2 = np.array(D2)\n",
    "    src_data = np.vstack((D1,D2))\n",
    "    for i in range(len(pred)):\n",
    "        if pred[i] == 0:\n",
    "            C0.append(src_data[i]) \n",
    "        else:\n",
    "            C1.append(src_data[i])\n",
    "    \n",
    "    C0 = np.array(C0)\n",
    "    C1 = np.array(C1)\n",
    "    plt.figure()\n",
    "    plt.plot(C0[:,0], C0[:,1],'ro')\n",
    "    plt.plot(C1[:,0], C1[:,1],'bo')\n",
    "    plt.title('Gradient Descent')\n",
    "    plt.show()"
   ]
  },
  {
   "cell_type": "code",
   "execution_count": 11,
   "metadata": {},
   "outputs": [
    {
     "data": {
      "image/png": "[encoded data removed]",
      "text/plain": [
       "<Figure size 432x288 with 1 Axes>"
      ]
     },
     "metadata": {
      "needs_background": "light"
     },
     "output_type": "display_data"
    },
    {
     "data": {
      "image/png": "[encoded data removed]",
      "text/plain": [
       "<Figure size 432x288 with 1 Axes>"
      ]
     },
     "metadata": {
      "needs_background": "light"
     },
     "output_type": "display_data"
    },
    {
     "data": {
      "image/png": "[encoded data removed]",
      "text/plain": [
       "<Figure size 432x288 with 1 Axes>"
      ]
     },
     "metadata": {
      "needs_background": "light"
     },
     "output_type": "display_data"
    }
   ],
   "source": [
    "plot_ground_truth(D1, D2)\n",
    "plt_newtons_result(D1, D2, pred_newtons)\n",
    "plt_gradient_descent_result(D1, D2, pred_g)"
   ]
  }
 ],
 "metadata": {
  "kernelspec": {
   "display_name": "Python 3",
   "language": "python",
   "name": "python3"
  },
  "language_info": {
   "codemirror_mode": {
    "name": "ipython",
    "version": 3
   },
   "file_extension": ".py",
   "mimetype": "text/x-python",
   "name": "python",
   "nbconvert_exporter": "python",
   "pygments_lexer": "ipython3",
   "version": "3.7.4"
  }
 },
 "nbformat": 4,
 "nbformat_minor": 2
}
